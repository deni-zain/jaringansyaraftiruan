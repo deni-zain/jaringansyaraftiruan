{
 "cells": [
  {
   "cell_type": "code",
   "execution_count": 18,
   "id": "f875d7d5",
   "metadata": {},
   "outputs": [],
   "source": [
    "import cv2"
   ]
  },
  {
   "cell_type": "code",
   "execution_count": 19,
   "id": "3fa59810",
   "metadata": {},
   "outputs": [],
   "source": [
    "#membaca file dari direktori images\n",
    "img = cv2.imread('images/deni.jpg', cv2.IMREAD_UNCHANGED)"
   ]
  },
  {
   "cell_type": "code",
   "execution_count": 20,
   "id": "b150e30f",
   "metadata": {},
   "outputs": [
    {
     "name": "stdout",
     "output_type": "stream",
     "text": [
      "Original Image (960, 720, 3)\n"
     ]
    }
   ],
   "source": [
    "# cetak ukuran gambar asli\n",
    "print('Original Image', img.shape)"
   ]
  },
  {
   "cell_type": "code",
   "execution_count": 21,
   "id": "5831414e",
   "metadata": {},
   "outputs": [],
   "source": [
    "# merubah ukuran lebah & tinggi\n",
    "scale_percent = 60 \n",
    "width = int(img.shape[1] * scale_percent / 500)\n",
    "height = int(img.shape[0] * scale_percent / 500)\n",
    "dim = (width, height)"
   ]
  },
  {
   "cell_type": "code",
   "execution_count": 22,
   "id": "55b102cf",
   "metadata": {},
   "outputs": [],
   "source": [
    "# resize image\n",
    "resized = cv2.resize(img, dim, interpolation = cv2.INTER_AREA)"
   ]
  },
  {
   "cell_type": "code",
   "execution_count": 23,
   "id": "fc35f45b",
   "metadata": {},
   "outputs": [
    {
     "name": "stdout",
     "output_type": "stream",
     "text": [
      "Resized Dimensions :  (115, 86, 3)\n"
     ]
    }
   ],
   "source": [
    "# cetak hasil perubahan\n",
    "print('Resized Dimensions : ',resized.shape)"
   ]
  },
  {
   "cell_type": "code",
   "execution_count": null,
   "id": "2105a706",
   "metadata": {},
   "outputs": [],
   "source": [
    "# menampilkan hasil resize gambar\n",
    "cv2.imshow(\"Resized image\", resized)\n",
    "cv2.waitKey(0)\n",
    "cv2.destroyAllWindows()"
   ]
  },
  {
   "cell_type": "code",
   "execution_count": 17,
   "id": "cbfe7b45",
   "metadata": {},
   "outputs": [
    {
     "name": "stdout",
     "output_type": "stream",
     "text": [
      "Image written to file-system :  True\n"
     ]
    }
   ],
   "source": [
    "#save hasil resize\n",
    "status = cv2.imwrite('images_hasil/deni_resize.jpg',resized)\n",
    "print(\"Image written to file-system : \",status)"
   ]
  },
  {
   "cell_type": "code",
   "execution_count": null,
   "id": "e97301ce",
   "metadata": {},
   "outputs": [],
   "source": []
  }
 ],
 "metadata": {
  "kernelspec": {
   "display_name": "Python 3 (ipykernel)",
   "language": "python",
   "name": "python3"
  },
  "language_info": {
   "codemirror_mode": {
    "name": "ipython",
    "version": 3
   },
   "file_extension": ".py",
   "mimetype": "text/x-python",
   "name": "python",
   "nbconvert_exporter": "python",
   "pygments_lexer": "ipython3",
   "version": "3.10.9"
  }
 },
 "nbformat": 4,
 "nbformat_minor": 5
}
