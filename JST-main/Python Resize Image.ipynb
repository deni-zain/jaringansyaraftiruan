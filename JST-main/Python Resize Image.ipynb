{
 "cells": [
  {
   "cell_type": "code",
   "execution_count": 1,
   "id": "116fd173",
   "metadata": {},
   "outputs": [],
   "source": [
    "import cv2"
   ]
  },
  {
   "cell_type": "code",
   "execution_count": 2,
   "id": "0dbd2452",
   "metadata": {},
   "outputs": [],
   "source": [
    "#membaca file dari direktori images\n",
    "img = cv2.imread('images/deni.jpg', cv2.IMREAD_UNCHANGED)"
   ]
  },
  {
   "cell_type": "code",
   "execution_count": 3,
   "id": "a3e198b6",
   "metadata": {},
   "outputs": [
    {
     "name": "stdout",
     "output_type": "stream",
     "text": [
      "Original Image (4096, 3072, 3)\n"
     ]
    }
   ],
   "source": [
    "# cetak ukuran gambar asli\n",
    "print('Original Image', img.shape)"
   ]
  },
  {
   "cell_type": "code",
   "execution_count": 4,
   "id": "360134b3",
   "metadata": {},
   "outputs": [],
   "source": [
    "# merubah ukuran lebah & tinggi\n",
    "scale_percent = 60 \n",
    "width = int(img.shape[1] * scale_percent / 500)\n",
    "height = int(img.shape[0] * scale_percent / 500)\n",
    "dim = (width, height)"
   ]
  },
  {
   "cell_type": "code",
   "execution_count": 5,
   "id": "f675948a",
   "metadata": {},
   "outputs": [],
   "source": [
    "# resize image\n",
    "resized = cv2.resize(img, dim, interpolation = cv2.INTER_AREA)"
   ]
  },
  {
   "cell_type": "code",
   "execution_count": 6,
   "id": "7a55f7e7",
   "metadata": {},
   "outputs": [
    {
     "name": "stdout",
     "output_type": "stream",
     "text": [
      "Resized Dimensions :  (491, 368, 3)\n"
     ]
    }
   ],
   "source": [
    "# cetak hasil perubahan\n",
    "print('Resized Dimensions : ',resized.shape)"
   ]
  },
  {
   "cell_type": "code",
   "execution_count": 7,
   "id": "9c0f8a4c",
   "metadata": {},
   "outputs": [],
   "source": [
    "# menampilkan hasil resize gambar\n",
    "cv2.imshow(\"Resized image\", resized)\n",
    "cv2.waitKey(0)\n",
    "cv2.destroyAllWindows()"
   ]
  },
  {
   "cell_type": "code",
   "execution_count": 1,
   "id": "2cf4cc47",
   "metadata": {},
   "outputs": [
    {
     "ename": "NameError",
     "evalue": "name 'cv2' is not defined",
     "output_type": "error",
     "traceback": [
      "\u001b[1;31m---------------------------------------------------------------------------\u001b[0m",
      "\u001b[1;31mNameError\u001b[0m                                 Traceback (most recent call last)",
      "Cell \u001b[1;32mIn[1], line 2\u001b[0m\n\u001b[0;32m      1\u001b[0m \u001b[38;5;66;03m#save hasil resize\u001b[39;00m\n\u001b[1;32m----> 2\u001b[0m status \u001b[38;5;241m=\u001b[39m \u001b[43mcv2\u001b[49m\u001b[38;5;241m.\u001b[39mimwrite(\u001b[38;5;124m'\u001b[39m\u001b[38;5;124mimages/deni_resize.jpg\u001b[39m\u001b[38;5;124m'\u001b[39m,resized)\n\u001b[0;32m      3\u001b[0m \u001b[38;5;28mprint\u001b[39m(\u001b[38;5;124m\"\u001b[39m\u001b[38;5;124mImage written to file-system : \u001b[39m\u001b[38;5;124m\"\u001b[39m,status)\n",
      "\u001b[1;31mNameError\u001b[0m: name 'cv2' is not defined"
     ]
    }
   ],
   "source": [
    "#save hasil resize\n",
    "status = cv2.imwrite('images/deni_resize.jpg',resized)\n",
    "print(\"Image written to file-system : \",status)"
   ]
  },
  {
   "cell_type": "code",
   "execution_count": null,
   "id": "f73c3064",
   "metadata": {},
   "outputs": [],
   "source": []
  }
 ],
 "metadata": {
  "kernelspec": {
   "display_name": "Python 3 (ipykernel)",
   "language": "python",
   "name": "python3"
  },
  "language_info": {
   "codemirror_mode": {
    "name": "ipython",
    "version": 3
   },
   "file_extension": ".py",
   "mimetype": "text/x-python",
   "name": "python",
   "nbconvert_exporter": "python",
   "pygments_lexer": "ipython3",
   "version": "3.10.9"
  }
 },
 "nbformat": 4,
 "nbformat_minor": 5
}
